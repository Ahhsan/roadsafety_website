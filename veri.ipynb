{
 "cells": [
  {
   "cell_type": "code",
   "execution_count": 1,
   "metadata": {},
   "outputs": [
    {
     "name": "stdout",
     "output_type": "stream",
     "text": [
      "Num GPUs Available: 1\n"
     ]
    }
   ],
   "source": [
    "import tensorflow as tf\n",
    "\n",
    "# Check if TensorFlow detects a GPU\n",
    "print(\"Num GPUs Available:\", len(tf.config.list_physical_devices('GPU')))\n"
   ]
  },
  {
   "cell_type": "code",
   "execution_count": 2,
   "metadata": {},
   "outputs": [
    {
     "name": "stdout",
     "output_type": "stream",
     "text": [
      "\n",
      "General configuration for OpenCV 4.11.0 =====================================\n",
      "  Version control:               unknown\n",
      "\n",
      "  Extra modules:\n",
      "    Location (extra):            D:/bld/libopencv_1738339479933/work/opencv_contrib/modules\n",
      "    Version control (extra):     unknown\n",
      "\n",
      "  Platform:\n",
      "    Timestamp:                   2025-01-31T16:10:51Z\n",
      "    Host:                        Windows 10.0.20348 AMD64\n",
      "    CMake:                       3.31.5\n",
      "    CMake generator:             Ninja\n",
      "    CMake build tool:            D:/bld/libopencv_1738339479933/_build_env/Library/bin/ninja.exe\n",
      "    MSVC:                        1929\n",
      "    Configuration:               Release\n",
      "    Algorithm Hint:              ALGO_HINT_ACCURATE\n",
      "\n",
      "  CPU/HW features:\n",
      "    Baseline:                    SSE SSE2 SSE3\n",
      "      requested:                 SSE3\n",
      "    Dispatched code generation:  SSE4_1 SSE4_2 AVX FP16 AVX2 AVX512_SKX\n",
      "      SSE4_1 (16 files):         + SSSE3 SSE4_1\n",
      "      SSE4_2 (1 files):          + SSSE3 SSE4_1 POPCNT SSE4_2\n",
      "      AVX (8 files):             + SSSE3 SSE4_1 POPCNT SSE4_2 AVX\n",
      "      FP16 (0 files):            + SSSE3 SSE4_1 POPCNT SSE4_2 AVX FP16\n",
      "      AVX2 (36 files):           + SSSE3 SSE4_1 POPCNT SSE4_2 AVX FP16 AVX2 FMA3\n",
      "      AVX512_SKX (5 files):      + SSSE3 SSE4_1 POPCNT SSE4_2 AVX FP16 AVX2 FMA3 AVX_512F AVX512_COMMON AVX512_SKX\n",
      "\n",
      "  C/C++:\n",
      "    Built as dynamic libs?:      YES\n",
      "    C++ standard:                17\n",
      "    C++ Compiler:                C:/Program Files/Microsoft Visual Studio/2022/Enterprise/VC/Tools/MSVC/14.29.30133/bin/HostX64/x64/cl.exe  (ver 19.29.30158.0)\n",
      "    C++ flags (Release):         -D_CRT_USE_C_COMPLEX_H  /DWIN32 /D_WINDOWS /W4 /GR  /D _CRT_SECURE_NO_DEPRECATE /D _CRT_NONSTDC_NO_DEPRECATE /D _SCL_SECURE_NO_WARNINGS /Gy /bigobj /Oi  /fp:precise /FS    /EHa /wd4127 /wd4251 /wd4324 /wd4275 /wd4512 /wd4589 /wd4819  /O2 /Ob2 /DNDEBUG \n",
      "    C++ flags (Debug):           -D_CRT_USE_C_COMPLEX_H  /DWIN32 /D_WINDOWS /W4 /GR  /D _CRT_SECURE_NO_DEPRECATE /D _CRT_NONSTDC_NO_DEPRECATE /D _SCL_SECURE_NO_WARNINGS /Gy /bigobj /Oi  /fp:precise /FS    /EHa /wd4127 /wd4251 /wd4324 /wd4275 /wd4512 /wd4589 /wd4819  /Zi /Ob0 /Od /RTC1 \n",
      "    C Compiler:                  C:/Program Files/Microsoft Visual Studio/2022/Enterprise/VC/Tools/MSVC/14.29.30133/bin/HostX64/x64/cl.exe\n",
      "    C flags (Release):           /DWIN32 /D_WINDOWS /W3  /D _CRT_SECURE_NO_DEPRECATE /D _CRT_NONSTDC_NO_DEPRECATE /D _SCL_SECURE_NO_WARNINGS /Gy /bigobj /Oi  /fp:precise /FS      /O2 /Ob2 /DNDEBUG \n",
      "    C flags (Debug):             /DWIN32 /D_WINDOWS /W3  /D _CRT_SECURE_NO_DEPRECATE /D _CRT_NONSTDC_NO_DEPRECATE /D _SCL_SECURE_NO_WARNINGS /Gy /bigobj /Oi  /fp:precise /FS    /Zi /Ob0 /Od /RTC1 \n",
      "    Linker flags (Release):      /machine:x64  /INCREMENTAL:NO \n",
      "    Linker flags (Debug):        /machine:x64  /debug /INCREMENTAL \n",
      "    ccache:                      NO\n",
      "    Precompiled headers:         NO\n",
      "    Extra dependencies:\n",
      "    3rdparty dependencies:\n",
      "\n",
      "  OpenCV modules:\n",
      "    To be built:                 alphamat aruco bgsegm calib3d ccalib core cvv datasets dnn dnn_objdetect dnn_superres dpm face features2d flann freetype fuzzy gapi hdf hfs highgui img_hash imgcodecs imgproc intensity_transform java line_descriptor mcc ml objdetect optflow phase_unwrapping photo plot python3 quality rapid reg rgbd saliency shape signal stereo stitching structured_light superres surface_matching text tracking video videoio videostab wechat_qrcode xfeatures2d ximgproc xobjdetect xphoto\n",
      "    Disabled:                    bioinspired world\n",
      "    Disabled by dependency:      -\n",
      "    Unavailable:                 cannops cudaarithm cudabgsegm cudacodec cudafeatures2d cudafilters cudaimgproc cudalegacy cudaobjdetect cudaoptflow cudastereo cudawarping cudev fastcv julia matlab ovis python2 sfm ts viz\n",
      "    Applications:                apps\n",
      "    Documentation:               NO\n",
      "    Non-free algorithms:         NO\n",
      "\n",
      "  Windows RT support:            NO\n",
      "\n",
      "  GUI:                           QT6\n",
      "    QT:                          YES (ver 6.8.2 )\n",
      "      QT OpenGL support:         NO\n",
      "\n",
      "  Media I/O: \n",
      "    ZLib:                        D:/bld/libopencv_1738339479933/_h_env/Library/lib/z.lib (ver 1.3.1)\n",
      "    JPEG:                        D:/bld/libopencv_1738339479933/_h_env/Library/lib/jpeg.lib (ver 80)\n",
      "    WEBP:                        WebP (ver 1.5.0)\n",
      "    AVIF:                        avif (ver 1.1.1)\n",
      "    PNG:                         D:/bld/libopencv_1738339479933/_h_env/Library/lib/libpng.lib (ver 1.6.46)\n",
      "    TIFF:                        (ver 42 / 4.7.0)\n",
      "    JPEG 2000:                   D:/bld/libopencv_1738339479933/_h_env/Library/lib/jasper.lib (ver 4.2.4)\n",
      "    OpenEXR:                     OpenEXR::OpenEXR (ver 3.3.2)\n",
      "    GIF:                         NO\n",
      "    HDR:                         YES\n",
      "    SUNRASTER:                   YES\n",
      "    PXM:                         YES\n",
      "    PFM:                         YES\n",
      "\n",
      "  Video I/O:\n",
      "    FFMPEG:                      YES (prebuilt binaries)\n",
      "      avcodec:                   YES (61.19.100)\n",
      "      avformat:                  YES (61.7.100)\n",
      "      avutil:                    YES (59.39.100)\n",
      "      swscale:                   YES (8.3.100)\n",
      "      avresample:                NO\n",
      "    DirectShow:                  YES\n",
      "    Media Foundation:            YES\n",
      "      DXVA:                      YES\n",
      "\n",
      "  Parallel framework:            Concurrency\n",
      "\n",
      "  Trace:                         YES (with Intel ITT)\n",
      "\n",
      "  Other third-party libraries:\n",
      "    Intel IPP:                   2021.12.0 [2021.12.0]\n",
      "           at:                   D:/bld/libopencv_1738339479933/work/build/3rdparty/ippicv/ippicv_win/icv\n",
      "    Intel IPP IW:                sources (2021.12.0)\n",
      "              at:                D:/bld/libopencv_1738339479933/work/build/3rdparty/ippicv/ippicv_win/iw\n",
      "    Lapack:                      YES (D:/bld/libopencv_1738339479933/_h_env/Library/lib/lapack.lib D:/bld/libopencv_1738339479933/_h_env/Library/lib/cblas.lib)\n",
      "    OpenVINO:                    YES (2024.6.0)\n",
      "    Eigen:                       YES (ver 3.4.0)\n",
      "    Custom HAL:                  NO\n",
      "    Protobuf:                    D:/bld/libopencv_1738339479933/_h_env/Library/bin/libprotobuf.dll (28.3.0)\n",
      "    Flatbuffers:                 builtin/3rdparty (23.5.9)\n",
      "\n",
      "  Python 3:\n",
      "    Interpreter:                 D:/bld/libopencv_1738339479933/_h_env/python (ver 3.9.21)\n",
      "    Libraries:                   D:/bld/libopencv_1738339479933/_h_env/libs/python39.lib (ver 3.9.21)\n",
      "    Limited API:                 NO\n",
      "    numpy:                       D:/bld/libopencv_1738339479933/_h_env/Lib/site-packages/numpy/_core/include (ver 2.0.2)\n",
      "    install path:                D:/bld/libopencv_1738339479933/_h_env/Lib/site-packages/cv2/python-3.9\n",
      "\n",
      "  Python (for build):            D:/bld/libopencv_1738339479933/_h_env/python\n",
      "\n",
      "  Java:                          \n",
      "    ant:                         NO\n",
      "    Java:                        YES (ver 1.8.0.432)\n",
      "    JNI:                         C:/hostedtoolcache/windows/Java_Temurin-Hotspot_jdk/8.0.432-6/x64/include C:/hostedtoolcache/windows/Java_Temurin-Hotspot_jdk/8.0.432-6/x64/include/win32 C:/hostedtoolcache/windows/Java_Temurin-Hotspot_jdk/8.0.432-6/x64/include\n",
      "    Java wrappers:               YES (JAVA)\n",
      "    Java tests:                  NO\n",
      "\n",
      "  Install to:                    D:/bld/libopencv_1738339479933/_h_env/Library\n",
      "-----------------------------------------------------------------\n",
      "\n",
      "\n"
     ]
    }
   ],
   "source": [
    "import cv2\n",
    "print(cv2.getBuildInformation())\n",
    "\n"
   ]
  },
  {
   "cell_type": "code",
   "execution_count": 2,
   "metadata": {},
   "outputs": [
    {
     "name": "stdout",
     "output_type": "stream",
     "text": [
      "True\n",
      "1\n",
      "NVIDIA GeForce RTX 4050 Laptop GPU\n"
     ]
    }
   ],
   "source": [
    "import torch\n",
    "print(torch.cuda.is_available())  # Should print True\n",
    "print(torch.cuda.device_count())  # Should print number of GPUs\n",
    "print(torch.cuda.get_device_name(0))  # Should print GPU name\n"
   ]
  }
 ],
 "metadata": {
  "kernelspec": {
   "display_name": "tf_env",
   "language": "python",
   "name": "python3"
  },
  "language_info": {
   "codemirror_mode": {
    "name": "ipython",
    "version": 3
   },
   "file_extension": ".py",
   "mimetype": "text/x-python",
   "name": "python",
   "nbconvert_exporter": "python",
   "pygments_lexer": "ipython3",
   "version": "3.9.21"
  }
 },
 "nbformat": 4,
 "nbformat_minor": 2
}
